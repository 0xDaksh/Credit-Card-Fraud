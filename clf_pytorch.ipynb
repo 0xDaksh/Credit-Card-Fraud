{
  "cells": [
    {
      "metadata": {
        "collapsed": true,
        "trusted": true,
        "_uuid": "aa04c92dfb7e0fec70580b7fe7de966a7f7811a1"
      },
      "cell_type": "code",
      "source": "import torch, torch.nn as nn, torch.nn.functional as F\nfrom torch.autograd import Variable\nimport pandas as pd\nfrom sklearn.preprocessing import StandardScaler\nfrom sklearn.model_selection import train_test_split\nimport torch.utils.data as data_utils",
      "execution_count": 1,
      "outputs": []
    },
    {
      "metadata": {
        "trusted": true,
        "_uuid": "eb66b8439b4e7bb67aeec0ae28ec89afaec87382"
      },
      "cell_type": "code",
      "source": "df = pd.read_csv('../input/creditcard.csv')\ndf.head(1) # give us a sneek preview of the dataset xD",
      "execution_count": 2,
      "outputs": []
    },
    {
      "metadata": {
        "collapsed": true,
        "trusted": true,
        "_uuid": "a3cbedeca4415daad40eadf28e9977cce57636cd"
      },
      "cell_type": "code",
      "source": "X = df.iloc[:, :-1].values # extracting features\ny = df.iloc[:, -1].values # extracting labels",
      "execution_count": 3,
      "outputs": []
    },
    {
      "metadata": {
        "collapsed": true,
        "trusted": true,
        "_uuid": "55f34a82195c47fbaf0888045eba813593408c38"
      },
      "cell_type": "code",
      "source": "sc = StandardScaler()\nX = sc.fit_transform(X)",
      "execution_count": 4,
      "outputs": []
    },
    {
      "metadata": {
        "collapsed": true,
        "trusted": true,
        "_uuid": "12821cdf48fd988e8d5a8cb701260e9b4f103e8f"
      },
      "cell_type": "code",
      "source": "X_train, X_test, Y_train, Y_test = train_test_split(X, y, test_size=0.1, random_state=1)",
      "execution_count": 5,
      "outputs": []
    },
    {
      "metadata": {
        "collapsed": true,
        "trusted": true,
        "_uuid": "0be0e08a62937a4fc19f3c7268b8c66927038e4f"
      },
      "cell_type": "code",
      "source": "class FraudNet(nn.Module):\n    def __init__(self):\n        super().__init__()\n        self.fc1 = nn.Linear(30, 16)\n        self.fc2 = nn.Linear(16, 18)\n        self.fc3 = nn.Linear(18, 20)\n        self.fc4 = nn.Linear(20, 24)\n        self.fc5 = nn.Linear(24, 1)\n    def forward(self, x):\n        x = F.relu(self.fc1(x))\n        x = F.relu(self.fc2(x))\n        x = F.dropout(x, p=0.25)\n        x = F.relu(self.fc3(x))\n        x = F.relu(self.fc4(x))\n        x = F.sigmoid(self.fc5(x))\n        return x",
      "execution_count": 6,
      "outputs": []
    },
    {
      "metadata": {
        "trusted": true,
        "_uuid": "365e3ba6a642f9feb2512be1db740e4bff59ebd3"
      },
      "cell_type": "code",
      "source": "net = FraudNet().double()",
      "execution_count": 8,
      "outputs": []
    },
    {
      "metadata": {
        "trusted": true,
        "_uuid": "7b1f7f326588e08bbbf7afcf66efa334c0314f75"
      },
      "cell_type": "code",
      "source": "net",
      "execution_count": 9,
      "outputs": []
    },
    {
      "metadata": {
        "collapsed": true,
        "trusted": true,
        "_uuid": "4f7221e10b6cfc2cc7f0af2f794af1c59a2d591d"
      },
      "cell_type": "code",
      "source": "X_train = torch.from_numpy(X_train)\nY_train = torch.from_numpy(Y_train).double()",
      "execution_count": 10,
      "outputs": []
    },
    {
      "metadata": {
        "collapsed": true,
        "trusted": true,
        "_uuid": "e936d2455307e220f9ce85fe8e991ad45afe73ae"
      },
      "cell_type": "code",
      "source": "loss_fn = nn.BCELoss()\noptimizer = torch.optim.Adam(net.parameters(), lr=1e-3)",
      "execution_count": 11,
      "outputs": []
    },
    {
      "metadata": {
        "collapsed": true,
        "trusted": true,
        "_uuid": "98e6a3652cfbc0ec34fb817cee73c058ee75ef17"
      },
      "cell_type": "code",
      "source": "training_epochs = 2\nminibatch_size = 64",
      "execution_count": 12,
      "outputs": []
    },
    {
      "metadata": {
        "collapsed": true,
        "trusted": true,
        "_uuid": "956c9546928c62938c149b50b82bbf1a30272ec2"
      },
      "cell_type": "code",
      "source": "train = data_utils.TensorDataset(X_train, Y_train)\ntrain_loader = data_utils.DataLoader(train, batch_size=minibatch_size, shuffle=True)",
      "execution_count": 13,
      "outputs": []
    },
    {
      "metadata": {
        "trusted": true,
        "_uuid": "b0e64242ccef41e93815accbc55d1e02ec50568f"
      },
      "cell_type": "code",
      "source": "for i in range(training_epochs):\n    for b, data in enumerate(train_loader, 0):\n        inputs, labels = data\n        y_pred = net(inputs)\n        loss = loss_fn(y_pred, labels)\n        \n        if b % 100:\n            print('Epochs: {}, batch: {} loss: {}'.format(i, b, loss))\n        #reset gradients\n        optimizer.zero_grad()\n\n        # backward pass\n        loss.backward()\n\n        # update weights\n        optimizer.step()",
      "execution_count": 14,
      "outputs": []
    },
    {
      "metadata": {
        "trusted": true,
        "_uuid": "ce8d038d408e81228bc35619dd295b5e4c85a9ff"
      },
      "cell_type": "code",
      "source": "X_test = torch.from_numpy(X_test)\nY_test = torch.from_numpy(Y_test).double()",
      "execution_count": 16,
      "outputs": []
    },
    {
      "metadata": {
        "collapsed": true,
        "trusted": true,
        "_uuid": "2947034b1c35f560fab3aaad2632b10d2594a3a8"
      },
      "cell_type": "code",
      "source": "test = data_utils.TensorDataset(X_test, Y_test)\ntest_loader = data_utils.DataLoader(test, batch_size=minibatch_size, shuffle=True)",
      "execution_count": 17,
      "outputs": []
    },
    {
      "metadata": {
        "trusted": false,
        "_uuid": "144e8ffdaea4838f5708210ceccf7ba4ddeb3090"
      },
      "cell_type": "code",
      "source": "",
      "execution_count": 33,
      "outputs": []
    },
    {
      "metadata": {
        "trusted": true,
        "_uuid": "262e4b4ba2c1775d261736ed784bb8be63beae17"
      },
      "cell_type": "code",
      "source": "correct = 0\ntotal = 0\nwith torch.no_grad():\n    for data in test_loader:\n        inputs, labels = data\n        outputs = net(inputs)\n        _, predicted = torch.max(outputs.data, 1)\n        total += labels.size(0)\n        correct += (predicted.double() == labels).sum().item()\n\nprint('Accuracy of the network on the {} inputs: {}'.format(\n    X_test.shape[0], 100 * correct/total))",
      "execution_count": 18,
      "outputs": []
    }
  ],
  "metadata": {
    "kernelspec": {
      "display_name": "Python 3",
      "language": "python",
      "name": "python3"
    },
    "language_info": {
      "name": "python",
      "version": "3.6.5",
      "mimetype": "text/x-python",
      "codemirror_mode": {
        "name": "ipython",
        "version": 3
      },
      "pygments_lexer": "ipython3",
      "nbconvert_exporter": "python",
      "file_extension": ".py"
    }
  },
  "nbformat": 4,
  "nbformat_minor": 1
}
